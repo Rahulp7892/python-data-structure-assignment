{
 "cells": [
  {
   "cell_type": "code",
   "execution_count": 1,
   "id": "44ce2fb5-cfb8-4f7d-9cff-c667634fe9ef",
   "metadata": {},
   "outputs": [],
   "source": [
    "#Q1. How do you comment code un python? What are the diffrent types of comments ?"
   ]
  },
  {
   "cell_type": "code",
   "execution_count": 6,
   "id": "e8a8d2e3-6e27-4051-9aaf-03c1880ca64d",
   "metadata": {},
   "outputs": [],
   "source": [
    "#Ans 1 Single line comments :\n",
    "#*These are comments that occupy a single line. In python, single-line comments start with a hash(#) symbol. Evrything following the # on that line is considered a comment and is ignored by the interpreter.\n",
    "#*Example:"
   ]
  },
  {
   "cell_type": "code",
   "execution_count": 7,
   "id": "efac6986-fb2f-4470-a0f7-6668f0a7c94e",
   "metadata": {},
   "outputs": [
    {
     "name": "stdout",
     "output_type": "stream",
     "text": [
      "Hello,world\n"
     ]
    }
   ],
   "source": [
    "print(\"Hello,world\")"
   ]
  },
  {
   "cell_type": "code",
   "execution_count": 1,
   "id": "74bc865b-852c-427c-b355-e9a1846f0e40",
   "metadata": {},
   "outputs": [],
   "source": [
    "# 2 Multi-line comments :\n",
    "#*Python doesn't have a specific syntax for multi-line comments like some other languages.However,you can use triple-quoted strings (either ''' or \"\"\") to create comments that span multiple lines. Though these are technically string literals,if they are not assigned to a variable,they are ignored by the interpreter and can serve as multi-line comments.\n",
    "#Example"
   ]
  },
  {
   "cell_type": "code",
   "execution_count": 2,
   "id": "6d6d9365-1417-44df-938c-38480729873e",
   "metadata": {},
   "outputs": [
    {
     "name": "stdout",
     "output_type": "stream",
     "text": [
      "Hello welcome my world\n"
     ]
    }
   ],
   "source": [
    "print(\"Hello welcome my world\")"
   ]
  },
  {
   "cell_type": "code",
   "execution_count": 3,
   "id": "0fd872a8-f84e-4cfa-a768-4e23e9cee092",
   "metadata": {},
   "outputs": [],
   "source": [
    "#Q2. What are variables in python?How do you declare and  assign values to variables?"
   ]
  },
  {
   "cell_type": "code",
   "execution_count": 5,
   "id": "c909ba94-9811-4469-9bad-beccbc4fe95e",
   "metadata": {},
   "outputs": [],
   "source": [
    "#Ans"
   ]
  },
  {
   "cell_type": "code",
   "execution_count": 9,
   "id": "c5b8c536-c19a-4f41-b2f5-45e0c98804bd",
   "metadata": {},
   "outputs": [],
   "source": [
    "a = 11"
   ]
  },
  {
   "cell_type": "code",
   "execution_count": 10,
   "id": "81063674-cde0-4347-ad8d-ab78cf0cc9bd",
   "metadata": {},
   "outputs": [
    {
     "data": {
      "text/plain": [
       "11"
      ]
     },
     "execution_count": 10,
     "metadata": {},
     "output_type": "execute_result"
    }
   ],
   "source": [
    "a"
   ]
  },
  {
   "cell_type": "code",
   "execution_count": 11,
   "id": "7b8164fe-6bd0-426d-b592-8fd70b3b48d8",
   "metadata": {},
   "outputs": [
    {
     "data": {
      "text/plain": [
       "int"
      ]
     },
     "execution_count": 11,
     "metadata": {},
     "output_type": "execute_result"
    }
   ],
   "source": [
    "type(a)"
   ]
  },
  {
   "cell_type": "code",
   "execution_count": 13,
   "id": "aa9aa33c-760f-442c-94de-80a7c186f5bc",
   "metadata": {},
   "outputs": [],
   "source": [
    "s = 19.78"
   ]
  },
  {
   "cell_type": "code",
   "execution_count": 14,
   "id": "5d0f62f2-ea0c-4404-abd5-9051daa42bde",
   "metadata": {},
   "outputs": [
    {
     "data": {
      "text/plain": [
       "19.78"
      ]
     },
     "execution_count": 14,
     "metadata": {},
     "output_type": "execute_result"
    }
   ],
   "source": [
    "s"
   ]
  },
  {
   "cell_type": "code",
   "execution_count": 15,
   "id": "baefd799-c07d-4d74-8ff0-e81a54bbcc3e",
   "metadata": {},
   "outputs": [
    {
     "data": {
      "text/plain": [
       "float"
      ]
     },
     "execution_count": 15,
     "metadata": {},
     "output_type": "execute_result"
    }
   ],
   "source": [
    "type(s)"
   ]
  },
  {
   "cell_type": "code",
   "execution_count": 16,
   "id": "6681f893-6a83-47d9-915b-bbd9c269c64c",
   "metadata": {},
   "outputs": [],
   "source": [
    "b = \"Rahul\""
   ]
  },
  {
   "cell_type": "code",
   "execution_count": 17,
   "id": "25fabeb6-0bf4-48a2-b1f0-5b47101c7ad1",
   "metadata": {},
   "outputs": [
    {
     "data": {
      "text/plain": [
       "'Rahul'"
      ]
     },
     "execution_count": 17,
     "metadata": {},
     "output_type": "execute_result"
    }
   ],
   "source": [
    "b"
   ]
  },
  {
   "cell_type": "code",
   "execution_count": 18,
   "id": "96f2e19e-2dcc-4bf8-a9b6-c8257666cc63",
   "metadata": {},
   "outputs": [
    {
     "data": {
      "text/plain": [
       "str"
      ]
     },
     "execution_count": 18,
     "metadata": {},
     "output_type": "execute_result"
    }
   ],
   "source": [
    "type(b)"
   ]
  },
  {
   "cell_type": "code",
   "execution_count": 19,
   "id": "c9900f32-d967-4499-8d0d-9f4c1534a897",
   "metadata": {},
   "outputs": [],
   "source": [
    "d = True"
   ]
  },
  {
   "cell_type": "code",
   "execution_count": 20,
   "id": "2b82a9df-ea24-4ef3-9a12-9eedcb0b300a",
   "metadata": {},
   "outputs": [
    {
     "data": {
      "text/plain": [
       "True"
      ]
     },
     "execution_count": 20,
     "metadata": {},
     "output_type": "execute_result"
    }
   ],
   "source": [
    "d"
   ]
  },
  {
   "cell_type": "code",
   "execution_count": 21,
   "id": "d66b13b1-1ae8-4c78-8f6f-ab21e4cd965e",
   "metadata": {},
   "outputs": [
    {
     "data": {
      "text/plain": [
       "bool"
      ]
     },
     "execution_count": 21,
     "metadata": {},
     "output_type": "execute_result"
    }
   ],
   "source": [
    "type(d)"
   ]
  },
  {
   "cell_type": "code",
   "execution_count": 22,
   "id": "04c24ebd-3d7a-4cca-8839-c3b6b6dd1384",
   "metadata": {},
   "outputs": [],
   "source": [
    "l = [1,2,3,99.2,True,8+7j,\"Rahul\"]"
   ]
  },
  {
   "cell_type": "code",
   "execution_count": 23,
   "id": "5cb2becb-bce4-4924-9150-2fe219b4e201",
   "metadata": {},
   "outputs": [
    {
     "data": {
      "text/plain": [
       "[1, 2, 3, 99.2, True, (8+7j), 'Rahul']"
      ]
     },
     "execution_count": 23,
     "metadata": {},
     "output_type": "execute_result"
    }
   ],
   "source": [
    "l"
   ]
  },
  {
   "cell_type": "code",
   "execution_count": 24,
   "id": "2d1461b8-cdbe-4eb8-830e-0fb0709d3539",
   "metadata": {},
   "outputs": [
    {
     "data": {
      "text/plain": [
       "list"
      ]
     },
     "execution_count": 24,
     "metadata": {},
     "output_type": "execute_result"
    }
   ],
   "source": [
    "type(l)"
   ]
  },
  {
   "cell_type": "code",
   "execution_count": 28,
   "id": "137410bd-cbd5-49f4-b73c-fa452a442760",
   "metadata": {},
   "outputs": [],
   "source": [
    "d = {\"name\": \"Rahul\", \"age\" : 29}"
   ]
  },
  {
   "cell_type": "code",
   "execution_count": 29,
   "id": "3fea90df-07b5-458c-b462-c4692412a6a4",
   "metadata": {},
   "outputs": [
    {
     "data": {
      "text/plain": [
       "{'name': 'Rahul', 'age': 29}"
      ]
     },
     "execution_count": 29,
     "metadata": {},
     "output_type": "execute_result"
    }
   ],
   "source": [
    "d"
   ]
  },
  {
   "cell_type": "code",
   "execution_count": 30,
   "id": "4df9c78a-c7a6-4886-9299-ae7acbcb17a5",
   "metadata": {},
   "outputs": [
    {
     "data": {
      "text/plain": [
       "dict"
      ]
     },
     "execution_count": 30,
     "metadata": {},
     "output_type": "execute_result"
    }
   ],
   "source": [
    "type(d)"
   ]
  },
  {
   "cell_type": "code",
   "execution_count": 31,
   "id": "3eb70d43-d3f9-4398-95f6-0183f3d1c4eb",
   "metadata": {},
   "outputs": [],
   "source": [
    "p = (8+7j)"
   ]
  },
  {
   "cell_type": "code",
   "execution_count": 32,
   "id": "549187a0-18d5-4dd8-ba4e-3d3bf58281e3",
   "metadata": {},
   "outputs": [
    {
     "data": {
      "text/plain": [
       "(8+7j)"
      ]
     },
     "execution_count": 32,
     "metadata": {},
     "output_type": "execute_result"
    }
   ],
   "source": [
    "p"
   ]
  },
  {
   "cell_type": "code",
   "execution_count": 33,
   "id": "e99e89bf-4283-40e4-bb0e-206083abe7a0",
   "metadata": {},
   "outputs": [
    {
     "data": {
      "text/plain": [
       "complex"
      ]
     },
     "execution_count": 33,
     "metadata": {},
     "output_type": "execute_result"
    }
   ],
   "source": [
    "type(p)"
   ]
  },
  {
   "cell_type": "code",
   "execution_count": 34,
   "id": "3cc71bbd-f704-48d2-a286-b8d58e8df1fa",
   "metadata": {},
   "outputs": [],
   "source": [
    "t = (1,2,3,4,5)"
   ]
  },
  {
   "cell_type": "code",
   "execution_count": 35,
   "id": "8f997e22-4315-40d1-a3a0-ff2a6751a371",
   "metadata": {},
   "outputs": [
    {
     "data": {
      "text/plain": [
       "(1, 2, 3, 4, 5)"
      ]
     },
     "execution_count": 35,
     "metadata": {},
     "output_type": "execute_result"
    }
   ],
   "source": [
    "t"
   ]
  },
  {
   "cell_type": "code",
   "execution_count": 36,
   "id": "32a8b1fd-eb33-4e80-bf13-cd312101170a",
   "metadata": {},
   "outputs": [
    {
     "data": {
      "text/plain": [
       "tuple"
      ]
     },
     "execution_count": 36,
     "metadata": {},
     "output_type": "execute_result"
    }
   ],
   "source": [
    "type(t)"
   ]
  },
  {
   "cell_type": "code",
   "execution_count": 37,
   "id": "ded8466f-14ab-4555-bff5-2c81648060e9",
   "metadata": {},
   "outputs": [],
   "source": [
    "#Q3.How do you convert one data type to another in python?"
   ]
  },
  {
   "cell_type": "code",
   "execution_count": 39,
   "id": "64cfff5d-b424-4d5f-8ce5-29663fbb8e64",
   "metadata": {},
   "outputs": [],
   "source": [
    "#Ans"
   ]
  },
  {
   "cell_type": "code",
   "execution_count": 40,
   "id": "1b16e8d1-b67d-4769-8c10-8379f25df1f5",
   "metadata": {},
   "outputs": [],
   "source": [
    "a = \"10\"\n",
    "a = int(\"10\")"
   ]
  },
  {
   "cell_type": "code",
   "execution_count": 41,
   "id": "885d4767-f315-423d-99fb-5571e8afc384",
   "metadata": {},
   "outputs": [
    {
     "data": {
      "text/plain": [
       "10"
      ]
     },
     "execution_count": 41,
     "metadata": {},
     "output_type": "execute_result"
    }
   ],
   "source": [
    "a"
   ]
  },
  {
   "cell_type": "code",
   "execution_count": 42,
   "id": "8bd60055-4ba7-4e10-8789-e615cd3ffc26",
   "metadata": {},
   "outputs": [],
   "source": [
    "b = 10.5\n",
    "b = str(10.5)"
   ]
  },
  {
   "cell_type": "code",
   "execution_count": 43,
   "id": "843d332d-4798-46e6-a1db-9e42c69c92cd",
   "metadata": {},
   "outputs": [
    {
     "data": {
      "text/plain": [
       "'10.5'"
      ]
     },
     "execution_count": 43,
     "metadata": {},
     "output_type": "execute_result"
    }
   ],
   "source": [
    "b"
   ]
  },
  {
   "cell_type": "code",
   "execution_count": 44,
   "id": "9c0da1d0-aa13-4d60-add0-72781b23d8be",
   "metadata": {},
   "outputs": [],
   "source": [
    "c = 10\n",
    "c = str(10)"
   ]
  },
  {
   "cell_type": "code",
   "execution_count": 45,
   "id": "42441064-75cd-4b20-ab36-2c67edf5831f",
   "metadata": {},
   "outputs": [
    {
     "data": {
      "text/plain": [
       "'10'"
      ]
     },
     "execution_count": 45,
     "metadata": {},
     "output_type": "execute_result"
    }
   ],
   "source": [
    "c"
   ]
  },
  {
   "cell_type": "code",
   "execution_count": 47,
   "id": "99b4f4cd-890e-4522-b8a9-25a55863043f",
   "metadata": {},
   "outputs": [],
   "source": [
    "t = (1,2,3,4,5)\n",
    "t = list[1,2,3,4,5]"
   ]
  },
  {
   "cell_type": "code",
   "execution_count": 48,
   "id": "2b9fca1a-acd6-475c-91ff-ea3b0d333577",
   "metadata": {},
   "outputs": [
    {
     "data": {
      "text/plain": [
       "list[1, 2, 3, 4, 5]"
      ]
     },
     "execution_count": 48,
     "metadata": {},
     "output_type": "execute_result"
    }
   ],
   "source": [
    "t "
   ]
  },
  {
   "cell_type": "code",
   "execution_count": 55,
   "id": "aad4cc42-bf5b-47f7-8153-397d0b35274d",
   "metadata": {},
   "outputs": [],
   "source": [
    "l = [1,2,3,4,5,True]\n",
    "l = set[(1,2,3,4,5,True)]"
   ]
  },
  {
   "cell_type": "code",
   "execution_count": 56,
   "id": "67e9604e-25c6-44a9-bada-e7fc7a5a3c9b",
   "metadata": {},
   "outputs": [
    {
     "data": {
      "text/plain": [
       "set[1, 2, 3, 4, 5, True]"
      ]
     },
     "execution_count": 56,
     "metadata": {},
     "output_type": "execute_result"
    }
   ],
   "source": [
    "l"
   ]
  },
  {
   "cell_type": "code",
   "execution_count": 57,
   "id": "51654c6c-5c6a-4581-83ac-1d3c3a375305",
   "metadata": {},
   "outputs": [],
   "source": [
    "#Q4 How do you write and execute a python script from the command line?"
   ]
  },
  {
   "cell_type": "code",
   "execution_count": 58,
   "id": "c2417848-a314-48bb-bc74-065c56647494",
   "metadata": {},
   "outputs": [],
   "source": [
    "#hello_world.py"
   ]
  },
  {
   "cell_type": "code",
   "execution_count": 59,
   "id": "1715679a-5ea7-495c-b496-b3963d07587e",
   "metadata": {},
   "outputs": [
    {
     "name": "stdout",
     "output_type": "stream",
     "text": [
      "Hello_world\n"
     ]
    }
   ],
   "source": [
    "print(\"Hello_world\")"
   ]
  },
  {
   "cell_type": "code",
   "execution_count": 60,
   "id": "acdeeed3-acb2-49f1-ad92-77ebcc3e1948",
   "metadata": {},
   "outputs": [
    {
     "name": "stdout",
     "output_type": "stream",
     "text": [
      "Hello,world\n"
     ]
    }
   ],
   "source": [
    "print(\"Hello,world\")"
   ]
  },
  {
   "cell_type": "code",
   "execution_count": 61,
   "id": "8c2cb786-c307-471b-9803-a79df9696584",
   "metadata": {},
   "outputs": [],
   "source": [
    "#Q5 Given a list my_list = [1,2,3,4,5],write the code to slice the list and obtain the sub-list[2,3]"
   ]
  },
  {
   "cell_type": "code",
   "execution_count": 74,
   "id": "6e075536-d559-46b0-a717-442b8bc17ae3",
   "metadata": {},
   "outputs": [],
   "source": [
    "l = [1,2,3,4,5]"
   ]
  },
  {
   "cell_type": "code",
   "execution_count": 75,
   "id": "a2cb4136-9e70-403f-bb64-02ba66cb4e8a",
   "metadata": {},
   "outputs": [
    {
     "data": {
      "text/plain": [
       "[2, 3]"
      ]
     },
     "execution_count": 75,
     "metadata": {},
     "output_type": "execute_result"
    }
   ],
   "source": [
    "l[1:3]"
   ]
  },
  {
   "cell_type": "code",
   "execution_count": 76,
   "id": "6eb8050c-608b-4bc7-930e-89d9a5c4f044",
   "metadata": {},
   "outputs": [],
   "source": [
    "#Q6 What is a complwx number in mathematics, and how is it represented in python?"
   ]
  },
  {
   "cell_type": "code",
   "execution_count": 77,
   "id": "4289043c-b7e4-4e0c-a565-2082bb49bce3",
   "metadata": {},
   "outputs": [],
   "source": [
    "#Ans A complex number in mathematics is a number of the form (a + bi), where (a) and (b) are real numbers, and (i) is the imaginary unit with the property(i>2=-1). Here,(a) is called the real part, and (b) is called the imaginary part.\n",
    "#In Python,complex numbers are represented using the complex number using the syntax a + bJ,where a is the real part and b is the imaginary part. \n",
    "#For Example"
   ]
  },
  {
   "cell_type": "code",
   "execution_count": 81,
   "id": "34993d64-f029-4bad-80ea-26015e8c03f2",
   "metadata": {},
   "outputs": [],
   "source": [
    "c = 5 + 7j"
   ]
  },
  {
   "cell_type": "code",
   "execution_count": 82,
   "id": "db2a7d6c-3be4-4b4b-a635-046289b9d5ce",
   "metadata": {},
   "outputs": [
    {
     "data": {
      "text/plain": [
       "(5+7j)"
      ]
     },
     "execution_count": 82,
     "metadata": {},
     "output_type": "execute_result"
    }
   ],
   "source": [
    "c"
   ]
  },
  {
   "cell_type": "code",
   "execution_count": 83,
   "id": "a321cf74-d762-4a6a-8e87-25f62dec2473",
   "metadata": {},
   "outputs": [
    {
     "name": "stdout",
     "output_type": "stream",
     "text": [
      "5.0\n"
     ]
    }
   ],
   "source": [
    "print(c.real)"
   ]
  },
  {
   "cell_type": "code",
   "execution_count": 84,
   "id": "9cb4be88-6dec-4a43-adc8-f18cc9eddeb1",
   "metadata": {},
   "outputs": [
    {
     "name": "stdout",
     "output_type": "stream",
     "text": [
      "7.0\n"
     ]
    }
   ],
   "source": [
    "print(c.imag)"
   ]
  },
  {
   "cell_type": "code",
   "execution_count": 85,
   "id": "ac71212c-1a08-45b8-aef9-fd123552b477",
   "metadata": {},
   "outputs": [],
   "source": [
    "#Q7 What is the correct way to declare a variable named age and assign the value 25 to it?"
   ]
  },
  {
   "cell_type": "code",
   "execution_count": 86,
   "id": "65af8877-14c3-434d-a345-2b80f9c7d0a2",
   "metadata": {},
   "outputs": [],
   "source": [
    "#Ans"
   ]
  },
  {
   "cell_type": "code",
   "execution_count": 87,
   "id": "6d4a20a2-7866-47f5-b7fc-5d025f3efee4",
   "metadata": {},
   "outputs": [],
   "source": [
    "age = 25"
   ]
  },
  {
   "cell_type": "code",
   "execution_count": 88,
   "id": "9358226e-4ee5-4994-86c9-492558c6e96a",
   "metadata": {},
   "outputs": [
    {
     "data": {
      "text/plain": [
       "25"
      ]
     },
     "execution_count": 88,
     "metadata": {},
     "output_type": "execute_result"
    }
   ],
   "source": [
    "age"
   ]
  },
  {
   "cell_type": "code",
   "execution_count": 89,
   "id": "60194ee0-d816-4027-8c30-d3b13c93fd8b",
   "metadata": {},
   "outputs": [],
   "source": [
    "#Q8 Declare a variable named price and assign the value 9.99 to it. What data type does this varible belong to?"
   ]
  },
  {
   "cell_type": "code",
   "execution_count": 91,
   "id": "8fcd1768-c79a-4d89-be76-696b659ba5fd",
   "metadata": {},
   "outputs": [],
   "source": [
    "#Ans"
   ]
  },
  {
   "cell_type": "code",
   "execution_count": 92,
   "id": "934cb8eb-e462-479f-92c9-0463fccfefd2",
   "metadata": {},
   "outputs": [],
   "source": [
    "price = 9.99"
   ]
  },
  {
   "cell_type": "code",
   "execution_count": 93,
   "id": "c0863a2b-72bd-4bbe-a96d-4fe1236b9dd5",
   "metadata": {},
   "outputs": [
    {
     "data": {
      "text/plain": [
       "9.99"
      ]
     },
     "execution_count": 93,
     "metadata": {},
     "output_type": "execute_result"
    }
   ],
   "source": [
    "price"
   ]
  },
  {
   "cell_type": "code",
   "execution_count": 94,
   "id": "004f32c1-aad2-4643-85e2-12a66acfd3ee",
   "metadata": {},
   "outputs": [
    {
     "data": {
      "text/plain": [
       "float"
      ]
     },
     "execution_count": 94,
     "metadata": {},
     "output_type": "execute_result"
    }
   ],
   "source": [
    "type(price)"
   ]
  },
  {
   "cell_type": "code",
   "execution_count": 95,
   "id": "1911b9ae-7a3a-4473-ba65-e6eb2a5f843d",
   "metadata": {},
   "outputs": [],
   "source": [
    "#Q9 Create a variable named name and assign your full name to it as a string. How would you print the value of this variable?"
   ]
  },
  {
   "cell_type": "code",
   "execution_count": 96,
   "id": "4a3654cc-6968-4d7a-891a-61dd6266d0e9",
   "metadata": {},
   "outputs": [],
   "source": [
    "name = \"Rahul Patil\""
   ]
  },
  {
   "cell_type": "code",
   "execution_count": 97,
   "id": "9065826a-1951-4eaf-b918-d4cedce6cd1a",
   "metadata": {},
   "outputs": [
    {
     "name": "stdout",
     "output_type": "stream",
     "text": [
      "Rahul Patil\n"
     ]
    }
   ],
   "source": [
    "print(name)"
   ]
  },
  {
   "cell_type": "code",
   "execution_count": 98,
   "id": "1247b478-312f-42f3-894c-c3d618ef80f5",
   "metadata": {},
   "outputs": [],
   "source": [
    "#Q10 Given the string\"Hello, World\",extract the substring\"world\"."
   ]
  },
  {
   "cell_type": "code",
   "execution_count": 99,
   "id": "ba6f58f8-1848-445f-98ef-a0ae35734e46",
   "metadata": {},
   "outputs": [],
   "source": [
    "#Ans"
   ]
  },
  {
   "cell_type": "code",
   "execution_count": 121,
   "id": "fffba4db-cfed-4a24-becc-8b3c5c8dd6d2",
   "metadata": {},
   "outputs": [],
   "source": [
    "s = \"Hello,World\""
   ]
  },
  {
   "cell_type": "code",
   "execution_count": 124,
   "id": "2ccee315-4007-4fa3-9c9b-3251f7085149",
   "metadata": {},
   "outputs": [
    {
     "data": {
      "text/plain": [
       "'World'"
      ]
     },
     "execution_count": 124,
     "metadata": {},
     "output_type": "execute_result"
    }
   ],
   "source": [
    "s[6:]"
   ]
  },
  {
   "cell_type": "code",
   "execution_count": 125,
   "id": "c4b3e328-705c-4f4f-836d-0a042c6a2fa6",
   "metadata": {},
   "outputs": [],
   "source": [
    "#Q11 Create a variable named \"is_student\" and assign it a boolean value indicating whether you are currently a student or not."
   ]
  },
  {
   "cell_type": "code",
   "execution_count": 126,
   "id": "57075e1c-d87d-46af-85a1-383d1f789177",
   "metadata": {},
   "outputs": [],
   "source": [
    "#Ans"
   ]
  },
  {
   "cell_type": "code",
   "execution_count": 128,
   "id": "b40beddc-4c59-427d-bb0a-4dace1881a1e",
   "metadata": {},
   "outputs": [],
   "source": [
    "is_student = True"
   ]
  }
 ],
 "metadata": {
  "kernelspec": {
   "display_name": "Python 3 (ipykernel)",
   "language": "python",
   "name": "python3"
  },
  "language_info": {
   "codemirror_mode": {
    "name": "ipython",
    "version": 3
   },
   "file_extension": ".py",
   "mimetype": "text/x-python",
   "name": "python",
   "nbconvert_exporter": "python",
   "pygments_lexer": "ipython3",
   "version": "3.10.8"
  }
 },
 "nbformat": 4,
 "nbformat_minor": 5
}
